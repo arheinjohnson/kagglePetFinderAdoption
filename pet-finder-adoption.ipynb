{
 "cells": [
  {
   "cell_type": "code",
   "execution_count": 2,
   "metadata": {},
   "outputs": [],
   "source": [
    "import os\n",
    "import cv2\n",
    "\n",
    "import pandas as pd\n",
    "import numpy as np\n",
    "from tqdm import tqdm, tqdm_notebook\n",
    "\n",
    "from keras.preprocessing.image import ImageDataGenerator, array_to_img, img_to_array, load_img\n",
    "from keras.applications.densenet import preprocess_input"
   ]
  },
  {
   "cell_type": "markdown",
   "metadata": {},
   "source": [
    "Create training data from the images folder, resizing images, and standardizing aspect ratio.\n",
    "(ref: https://www.kaggle.com/christofhenkel/extract-image-features-from-pretrained-nn)\n",
    "\n",
    "\n",
    "There are a total of 14,993 rows and 24 columns in train.csv."
   ]
  },
  {
   "cell_type": "code",
   "execution_count": 3,
   "metadata": {},
   "outputs": [],
   "source": [
    "train_df = pd.read_csv('train.csv')\n",
    "img_size = 256\n",
    "batch_size = 1"
   ]
  },
  {
   "cell_type": "code",
   "execution_count": 4,
   "metadata": {},
   "outputs": [],
   "source": [
    "pet_ids = train_df['PetID'].values\n",
    "n_batches = len(pet_ids) // batch_size + 1 # 14,933 // 256 + 1 = 938\n",
    "# + 1 to handle the remainder of division"
   ]
  },
  {
   "cell_type": "markdown",
   "metadata": {},
   "source": [
    "Images are imported as numpy ndarrays of shape = (number of records, width in pixels, height in pixels, number of channels)."
   ]
  },
  {
   "cell_type": "code",
   "execution_count": 17,
   "metadata": {},
   "outputs": [
    {
     "name": "stdout",
     "output_type": "stream",
     "text": [
      "Working with 58311 images\n",
      "Image examples: \n",
      "e26125d75-3.jpg\n"
     ]
    },
    {
     "data": {
      "image/jpeg": "[encoded data removed]",
      "text/plain": [
       "<IPython.core.display.Image object>"
      ]
     },
     "metadata": {
      "image/jpeg": {
       "height": 320,
       "width": 240
      }
     },
     "output_type": "display_data"
    }
   ],
   "source": [
    "train_image_folder = \"train_images/\"\n",
    "onlyfiles = [f for f in os.listdir(train_image_folder) if os.path.isfile(os.path.join(train_image_folder, f))]\n",
    "\n",
    "from IPython.display import display\n",
    "from IPython.display import Image as _Imgdis\n",
    "\n",
    "print(\"Working with {0} images\".format(len(onlyfiles)))\n",
    "print(\"Image examples: \")\n",
    "for i in range (1):\n",
    "    print(onlyfiles[i])\n",
    "    display(_Imgdis(filename=train_image_folder + onlyfiles[i], width=240, height=320))"
   ]
  },
  {
   "cell_type": "code",
   "execution_count": 18,
   "metadata": {},
   "outputs": [
    {
     "name": "stdout",
     "output_type": "stream",
     "text": [
      "['86e1089a3' '6296e909a' '3422e4906' ... 'd981b6395' 'e4da1c9e4'\n",
      " 'a83d95ead']\n",
      "58311\n"
     ]
    }
   ],
   "source": [
    "from scipy import ndimage\n",
    "\n",
    "for pet_id in pet_ids:\n",
    "    for _file in onlyfiles:\n",
    "\n",
    "train_files = []\n",
    "y_train = []\n",
    "i = 0\n",
    "for _file in onlyfiles:\n",
    "    train_files.append(_file)\n",
    "    \n",
    "\n",
    "print(len(train_files))\n"
   ]
  },
  {
   "cell_type": "code",
   "execution_count": 43,
   "metadata": {},
   "outputs": [],
   "source": [
    "from keras.applications.densenet import preprocess_input, DenseNet121"
   ]
  },
  {
   "cell_type": "code",
   "execution_count": 44,
   "metadata": {},
   "outputs": [],
   "source": []
  },
  {
   "cell_type": "code",
   "execution_count": 45,
   "metadata": {},
   "outputs": [],
   "source": []
  }
 ],
 "metadata": {
  "kernelspec": {
   "display_name": "Python 3",
   "language": "python",
   "name": "python3"
  },
  "language_info": {
   "codemirror_mode": {
    "name": "ipython",
    "version": 3
   },
   "file_extension": ".py",
   "mimetype": "text/x-python",
   "name": "python",
   "nbconvert_exporter": "python",
   "pygments_lexer": "ipython3",
   "version": "3.6.7"
  }
 },
 "nbformat": 4,
 "nbformat_minor": 2
}
